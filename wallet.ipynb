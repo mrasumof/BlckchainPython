{
 "cells": [
  {
   "cell_type": "code",
   "execution_count": 1,
   "metadata": {},
   "outputs": [],
   "source": [
    "# Import dependencies\n",
    "import subprocess\n",
    "import json\n",
    "import os\n",
    "from dotenv import load_dotenv\n",
    "import pandas as pd\n",
    "from bit import Key, PrivateKey, PrivateKeyTestnet\n",
    "from bit.network import NetworkAPI\n",
    "from bit import *\n",
    "from web3 import Web3\n",
    "from eth_account import Account \n",
    "# Load and set environment variables\n",
    "load_dotenv()\n",
    "mnemonic=os.getenv(\"mnemonic\",\"produce truck believe payment innocent child circle cliff sense step wage tomorrow tank jacket strategy\")\n",
    "\n",
    "# Import constants.py and necessary functions from bit and web3\n",
    "from constants import *\n"
   ]
  },
  {
   "cell_type": "code",
   "execution_count": 2,
   "metadata": {},
   "outputs": [],
   "source": [
    "num_derive='5'\n",
    "coin=BTC"
   ]
  },
  {
   "cell_type": "code",
   "execution_count": 3,
   "metadata": {},
   "outputs": [
    {
     "data": {
      "text/plain": [
       "b'\\n[{\"path\":\"m\\\\/44\\'\\\\/0\\'\\\\/0\\'\\\\/0\\\\/0\",\"address\":\"1MCn2EUmn55AWCrhT1oy4eCfYr81qP8r1G\",\"xprv\":\"xprvA3Yahy5gccvuBwd7FPkb4QiD4YhFY45M9oFi7x59uDQarZCoXjGpncor5UdUL6znw7ewB34Ui4j11ySaYoyS5vAhWRtrDvtENBQTHhnZorM\",\"xpub\":\"xpub6GXw7UcaSzVCQRhaMRHbRYewcaXjwWoCX2BJvLUmTYwZjMXx5Gb5LR8KvjBSfo59LGX6U3AQqMF8ubd7PD9CKvMUSEcHa9JtbiScCbKzo5n\",\"privkey\":\"Kzx8s6nwj573tKTe8JJb9PEr4f8nA8hpxVX3KqEyiDypW1xMBunc\",\"pubkey\":\"023039cfcc4f2b6a9f6a936524ff4798191c8ad7b379481aedd10095672ea4256a\",\"pubkeyhash\":\"dd9cac50520f2b53222b3921de593d86b78f8174\",\"index\":0},{\"path\":\"m\\\\/44\\'\\\\/0\\'\\\\/0\\'\\\\/0\\\\/1\",\"address\":\"1HVKaniHRa44yr62Ad7kLCoVdKbxThoXso\",\"xprv\":\"xprvA3Yahy5gccvuEMtAHQHiZsYhMK6h4pkuGsPvWgS5Qe8U5NPqUL4WGXoNuiHdBcxo2QtP2USMU2CqJmK9dPVFZ43U7DjY7DpbrVd7rbBYQQ5\",\"xpub\":\"xpub6GXw7UcaSzVCSqxdPRpiw1VRuLwBUHUke6KXK4qgxyfSxAiz1sNkpL7rkyGsLC7TLQet4KvE13BkYBedUqXtKVTPHk6b5GjJ97RLWr5aAby\",\"privkey\":\"KwfBnfqSthNLgJgwamzybCwcdaRBCZ7Y5YnZvW14ACY1us1pomEh\",\"pubkey\":\"020760e910b7e0b4973aa33c20529a41a85a1604223d0b558b2bfbea5cfc2f6d8f\",\"pubkeyhash\":\"b4dd2be13aafc673761a67df28ba989c5f084812\",\"index\":1},{\"path\":\"m\\\\/44\\'\\\\/0\\'\\\\/0\\'\\\\/0\\\\/2\",\"address\":\"14tryGa7aN9PbN7gnb7rRtsFnN2zPYULKU\",\"xprv\":\"xprvA3Yahy5gccvuGApd8GPwsCqRZdgXbzBYVnqNsktYoEgfEci8Ak1RcaFfR5JGCra2S4juen835KBCqkJjMcziHoEDDYE61kCL1X5BzNFtLYW\",\"xpub\":\"xpub6GXw7UcaSzVCUeu6EHvxELnA7fX21SuPs1kyg9JAMaDe7R3GiHKgANa9GLcgqbRNgiC7N1gyN7jmpQrjyeSAPUhM1Q9Gp7trPij5n9GcC2Y\",\"privkey\":\"L3k4u7NSsAuqEYgmo5167gDYsVoEEkNuprjDrNtEM3Y1eqbFFKo2\",\"pubkey\":\"02e8776272eb7d73ff57d6083ab11f3fbf962a25d26fdd2ac8f69c58584837cc5c\",\"pubkeyhash\":\"2ab74debd4faecaf55a3106bfe24a26f7ddcf9d9\",\"index\":2},{\"path\":\"m\\\\/44\\'\\\\/0\\'\\\\/0\\'\\\\/0\\\\/3\",\"address\":\"13Ab3JHU8AduYbMH14xUgzBNXSkYEJCpun\",\"xprv\":\"xprvA3Yahy5gccvuJcrDZRz3ojb5EzX55Sr9M4VxikefgY28RwhhMsB3kttse9NNJxyeh6shdPEZ79ZBvkxX3vNAz4DztjuSxdzHKgeiFZtEHx5\",\"xpub\":\"xpub6GXw7UcaSzVCX6vgfTX4AsXoo2MZUuZziHRZX94HEsZ7Jk2quQVJJhDMVQUwQ483wxkcDwMGYhL7Qnd9nz1HAjF2UZkXmeg2jNyCasZX798\",\"privkey\":\"KwJyuKYDk1dVNKzkKj1P2VFgajLmWHccfqxf9g5Y5XrcAtgrdXEr\",\"pubkey\":\"020d9ec61c749fbda40077f8ffd5b610cee51635b94c78de70c502c042f6f1076d\",\"pubkeyhash\":\"17c068fa37eb035402c609f7266202cd645b5693\",\"index\":3},{\"path\":\"m\\\\/44\\'\\\\/0\\'\\\\/0\\'\\\\/0\\\\/4\",\"address\":\"1Htk6jtyrFsNfuNYJ9EiWQe6NvyiuNX43t\",\"xprv\":\"xprvA3Yahy5gccvuLGAPY7yGds1Sdq9zJZyDAnywk5PvArbA5H82F18oQczq8XahcmVoiXyGaYNN4E4qxhhigE4tzPUhyAnPpB8pmHcNKX2r6aW\",\"xpub\":\"xpub6GXw7UcaSzVCYkEre9WGzzxBBrzUi2h4Y1uYYToXjC88x5TAnYT3xRKJymSxgugx18dj13ELPQW5T6pDN8SpBABrLAZYZBgWBNGaWNSg11W\",\"privkey\":\"L5dFXc26UjnSsck4CJkPpufpxK4Q37L5mqycNKbWNf2GSBuFfWnj\",\"pubkey\":\"026187199c0aaaadc172b2c9c7b74721baaa43bc274f2cbc189d4aff381e04214a\",\"pubkeyhash\":\"b94b342b9ba798f0c535c680c33dbe63c25e3ba5\",\"index\":4},{\"path\":\"m\\\\/44\\'\\\\/0\\'\\\\/0\\'\\\\/0\\\\/5\",\"address\":\"1PFKXUXaBeto2bmsYzQSxW4X4xa27Ecvkb\",\"xprv\":\"xprvA3Yahy5gccvuPzsrxF8HcmBH5enWHX46Rhijj1WBnGq3rUYNj68YQev84qZm5bdXtcxiiq4aHdb724rrJPcZ3odV3BZsn6AVUyQ4EzfjKso\",\"xpub\":\"xpub6GXw7UcaSzVCcUxL4GfHyu81dgczgymwnveLXPuoLcN2jGsXGdSnxTEbv9cPA8rKntcsqepBrpwGMemQXHQg5FqbY6NUCANMCAUf6MghG5u\",\"privkey\":\"KxAa67XXEyKLF3bxQ9bNdgyFxNJh96nmu6j3YDVaeq9mKHBp5Gpx\",\"pubkey\":\"03a940f612db67ceb9e74d2dd420ad7d83481800babfa3ae6c00c9a7d98059d948\",\"pubkeyhash\":\"f4080e116f3cb86e411a6115835b1ff048b264b9\",\"index\":5},{\"path\":\"m\\\\/44\\'\\\\/0\\'\\\\/0\\'\\\\/0\\\\/6\",\"address\":\"1MvDnpAa4zhEXhozSVjSZZso31ynEsS7p8\",\"xprv\":\"xprvA3Yahy5gccvuRvb39QeMBssS8iy4xg1bcja2qgu9PHuTRB8yXCaUcKVg1WujmtvKvY23pFN3pCgD9R8mCpLcDUzGVij56FFBKwLNwEgEnXz\",\"xpub\":\"xpub6GXw7UcaSzVCeQfWFSBMZ1pAgkoZN8jSyxVde5JkwdSSHyU84jtjA7p9rpU5dL2ccXeSHzwDYSRAxAP4w1THNbEVb1o74BYUtFTiMB6TXAy\",\"privkey\":\"L2a22Qs8vrsrpNV3oSH3SbAAzhrmcL4aWKHBiCViQ7x4EEsAtJNS\",\"pubkey\":\"03ec73eb2217e34a5f73dffe6862dc2f9e204ed525c6c6f4e4ab68d59d3eb2f0e7\",\"pubkeyhash\":\"e5733cf48f88579e595217285404fe23656bccbd\",\"index\":6},{\"path\":\"m\\\\/44\\'\\\\/0\\'\\\\/0\\'\\\\/0\\\\/7\",\"address\":\"1J71qBswXgbCbxeE2v3S9oPxynHkSB3ZhP\",\"xprv\":\"xprvA3Yahy5gccvuVh7yKopsMg1BjvWUk67KbjYa57ZFpJXGKzr8oLwnRhKjNXUqnbXD3u9YVwK8biiPE32DbAiquZjCkswniA2opD6o9jYrdAF\",\"xpub\":\"xpub6GXw7UcaSzVCiBCSRqMsiowvHxLy9YqAxxUAsVxsNe4FCoBHLtG2yVeDDndR8wh8REdM5FNiz9tz7Xsr7swWc3r28hm237ordmHGdkJYnJ9\",\"privkey\":\"KwqxJwnE98p8GHaA6bJRoWpLv8nQhDRxUzEPyE3S2eeLTtNx1pMv\",\"pubkey\":\"02221aee88d24ceb5b44656c3b8890d0f293f9f8b4db402b4308bad0eb3a6f0776\",\"pubkeyhash\":\"bb9d53df765d546bc0701e551e215313621c8cdf\",\"index\":7},{\"path\":\"m\\\\/44\\'\\\\/0\\'\\\\/0\\'\\\\/0\\\\/8\",\"address\":\"13D1YNujR1WXRFiwxzTXSWWwymo49pFuVb\",\"xprv\":\"xprvA3Yahy5gccvuYD3G7VHrXZJyQm7p3r8vBLp6Nhd6UBdZxkwmyaDqjCyeUkFmiebDDVEuBV6vf6WVkVgS6tmqUQVnmPyJoCg3PWLsYbhc4xH\",\"xpub\":\"xpub6GXw7UcaSzVCkh7jDWprthFhxnxJTJrmYZjhB62i2XAYqZGvX7Y6H1J8L1SCvtExuXQc3W9mAmqKyH6JQzRtLXyCojgh9pwXiaWxrEC155H\",\"privkey\":\"L4LHiUCsft73J4Mz5wY6A93XCqKbcEmNQtRa7quQRyY4tXyBbShD\",\"pubkey\":\"02e7edb4f06766ec09b4447fddb96c06b4c369e4a98aaf23905bbb06261a6d1bb1\",\"pubkeyhash\":\"1835b1d879af13f0f7ce5b5dfe3731f68851110a\",\"index\":8},{\"path\":\"m\\\\/44\\'\\\\/0\\'\\\\/0\\'\\\\/0\\\\/9\",\"address\":\"1Jt6dWdW6oQ3Ph1J2QU6BrhKbdHnGcZYXW\",\"xprv\":\"xprvA3Yahy5gccvuYSPrqLyNMEnZy9yZ9XJAVWcgxv7MjazURhqHK8gYp5jUmx3k4eGfR77rhzabtzBQ65d2SdbbWappzuP26vCxoLWrtPxBGNk\",\"xpub\":\"xpub6GXw7UcaSzVCkvUKwNWNiNjJXBp3Yz21rjYHmJWyHvXTJWARrfzoMt3xdD1fpNpfhfqLNndJUwfA8ErreHqaWFPLzU5z3EfAAXVr2zyHz1T\",\"privkey\":\"L2Z6sQbCAUYpry7cR2ouayxVU1V6u52iU6oBfompLuLQotwdEH6j\",\"pubkey\":\"029671cfac56ecc6a982d7ef38560501b790fce3c831b70cf08004d604a7f26009\",\"pubkeyhash\":\"c4240d387e4ab67d31e299b79b3aafaab871b77c\",\"index\":9}]'"
      ]
     },
     "execution_count": 3,
     "metadata": {},
     "output_type": "execute_result"
    }
   ],
   "source": [
    "command = \"./derive -g --mnemonic='produce truck believe payment innocent child circle cliff sense step wage tomorrow tank jacket strategy' --numderive='10' --coin='btc' --format=json\"\n",
    "proc = subprocess.Popen(command, stdout=subprocess.PIPE, shell=True)\n",
    "(output, err) = proc.communicate()\n",
    "output"
   ]
  },
  {
   "cell_type": "code",
   "execution_count": 4,
   "metadata": {},
   "outputs": [],
   "source": [
    "p_status = proc.wait()"
   ]
  },
  {
   "cell_type": "code",
   "execution_count": 5,
   "metadata": {},
   "outputs": [
    {
     "data": {
      "text/plain": [
       "[{'path': \"m/44'/0'/0'/0/0\",\n",
       "  'address': '1MCn2EUmn55AWCrhT1oy4eCfYr81qP8r1G',\n",
       "  'xprv': 'xprvA3Yahy5gccvuBwd7FPkb4QiD4YhFY45M9oFi7x59uDQarZCoXjGpncor5UdUL6znw7ewB34Ui4j11ySaYoyS5vAhWRtrDvtENBQTHhnZorM',\n",
       "  'xpub': 'xpub6GXw7UcaSzVCQRhaMRHbRYewcaXjwWoCX2BJvLUmTYwZjMXx5Gb5LR8KvjBSfo59LGX6U3AQqMF8ubd7PD9CKvMUSEcHa9JtbiScCbKzo5n',\n",
       "  'privkey': 'Kzx8s6nwj573tKTe8JJb9PEr4f8nA8hpxVX3KqEyiDypW1xMBunc',\n",
       "  'pubkey': '023039cfcc4f2b6a9f6a936524ff4798191c8ad7b379481aedd10095672ea4256a',\n",
       "  'pubkeyhash': 'dd9cac50520f2b53222b3921de593d86b78f8174',\n",
       "  'index': 0},\n",
       " {'path': \"m/44'/0'/0'/0/1\",\n",
       "  'address': '1HVKaniHRa44yr62Ad7kLCoVdKbxThoXso',\n",
       "  'xprv': 'xprvA3Yahy5gccvuEMtAHQHiZsYhMK6h4pkuGsPvWgS5Qe8U5NPqUL4WGXoNuiHdBcxo2QtP2USMU2CqJmK9dPVFZ43U7DjY7DpbrVd7rbBYQQ5',\n",
       "  'xpub': 'xpub6GXw7UcaSzVCSqxdPRpiw1VRuLwBUHUke6KXK4qgxyfSxAiz1sNkpL7rkyGsLC7TLQet4KvE13BkYBedUqXtKVTPHk6b5GjJ97RLWr5aAby',\n",
       "  'privkey': 'KwfBnfqSthNLgJgwamzybCwcdaRBCZ7Y5YnZvW14ACY1us1pomEh',\n",
       "  'pubkey': '020760e910b7e0b4973aa33c20529a41a85a1604223d0b558b2bfbea5cfc2f6d8f',\n",
       "  'pubkeyhash': 'b4dd2be13aafc673761a67df28ba989c5f084812',\n",
       "  'index': 1},\n",
       " {'path': \"m/44'/0'/0'/0/2\",\n",
       "  'address': '14tryGa7aN9PbN7gnb7rRtsFnN2zPYULKU',\n",
       "  'xprv': 'xprvA3Yahy5gccvuGApd8GPwsCqRZdgXbzBYVnqNsktYoEgfEci8Ak1RcaFfR5JGCra2S4juen835KBCqkJjMcziHoEDDYE61kCL1X5BzNFtLYW',\n",
       "  'xpub': 'xpub6GXw7UcaSzVCUeu6EHvxELnA7fX21SuPs1kyg9JAMaDe7R3GiHKgANa9GLcgqbRNgiC7N1gyN7jmpQrjyeSAPUhM1Q9Gp7trPij5n9GcC2Y',\n",
       "  'privkey': 'L3k4u7NSsAuqEYgmo5167gDYsVoEEkNuprjDrNtEM3Y1eqbFFKo2',\n",
       "  'pubkey': '02e8776272eb7d73ff57d6083ab11f3fbf962a25d26fdd2ac8f69c58584837cc5c',\n",
       "  'pubkeyhash': '2ab74debd4faecaf55a3106bfe24a26f7ddcf9d9',\n",
       "  'index': 2},\n",
       " {'path': \"m/44'/0'/0'/0/3\",\n",
       "  'address': '13Ab3JHU8AduYbMH14xUgzBNXSkYEJCpun',\n",
       "  'xprv': 'xprvA3Yahy5gccvuJcrDZRz3ojb5EzX55Sr9M4VxikefgY28RwhhMsB3kttse9NNJxyeh6shdPEZ79ZBvkxX3vNAz4DztjuSxdzHKgeiFZtEHx5',\n",
       "  'xpub': 'xpub6GXw7UcaSzVCX6vgfTX4AsXoo2MZUuZziHRZX94HEsZ7Jk2quQVJJhDMVQUwQ483wxkcDwMGYhL7Qnd9nz1HAjF2UZkXmeg2jNyCasZX798',\n",
       "  'privkey': 'KwJyuKYDk1dVNKzkKj1P2VFgajLmWHccfqxf9g5Y5XrcAtgrdXEr',\n",
       "  'pubkey': '020d9ec61c749fbda40077f8ffd5b610cee51635b94c78de70c502c042f6f1076d',\n",
       "  'pubkeyhash': '17c068fa37eb035402c609f7266202cd645b5693',\n",
       "  'index': 3},\n",
       " {'path': \"m/44'/0'/0'/0/4\",\n",
       "  'address': '1Htk6jtyrFsNfuNYJ9EiWQe6NvyiuNX43t',\n",
       "  'xprv': 'xprvA3Yahy5gccvuLGAPY7yGds1Sdq9zJZyDAnywk5PvArbA5H82F18oQczq8XahcmVoiXyGaYNN4E4qxhhigE4tzPUhyAnPpB8pmHcNKX2r6aW',\n",
       "  'xpub': 'xpub6GXw7UcaSzVCYkEre9WGzzxBBrzUi2h4Y1uYYToXjC88x5TAnYT3xRKJymSxgugx18dj13ELPQW5T6pDN8SpBABrLAZYZBgWBNGaWNSg11W',\n",
       "  'privkey': 'L5dFXc26UjnSsck4CJkPpufpxK4Q37L5mqycNKbWNf2GSBuFfWnj',\n",
       "  'pubkey': '026187199c0aaaadc172b2c9c7b74721baaa43bc274f2cbc189d4aff381e04214a',\n",
       "  'pubkeyhash': 'b94b342b9ba798f0c535c680c33dbe63c25e3ba5',\n",
       "  'index': 4},\n",
       " {'path': \"m/44'/0'/0'/0/5\",\n",
       "  'address': '1PFKXUXaBeto2bmsYzQSxW4X4xa27Ecvkb',\n",
       "  'xprv': 'xprvA3Yahy5gccvuPzsrxF8HcmBH5enWHX46Rhijj1WBnGq3rUYNj68YQev84qZm5bdXtcxiiq4aHdb724rrJPcZ3odV3BZsn6AVUyQ4EzfjKso',\n",
       "  'xpub': 'xpub6GXw7UcaSzVCcUxL4GfHyu81dgczgymwnveLXPuoLcN2jGsXGdSnxTEbv9cPA8rKntcsqepBrpwGMemQXHQg5FqbY6NUCANMCAUf6MghG5u',\n",
       "  'privkey': 'KxAa67XXEyKLF3bxQ9bNdgyFxNJh96nmu6j3YDVaeq9mKHBp5Gpx',\n",
       "  'pubkey': '03a940f612db67ceb9e74d2dd420ad7d83481800babfa3ae6c00c9a7d98059d948',\n",
       "  'pubkeyhash': 'f4080e116f3cb86e411a6115835b1ff048b264b9',\n",
       "  'index': 5},\n",
       " {'path': \"m/44'/0'/0'/0/6\",\n",
       "  'address': '1MvDnpAa4zhEXhozSVjSZZso31ynEsS7p8',\n",
       "  'xprv': 'xprvA3Yahy5gccvuRvb39QeMBssS8iy4xg1bcja2qgu9PHuTRB8yXCaUcKVg1WujmtvKvY23pFN3pCgD9R8mCpLcDUzGVij56FFBKwLNwEgEnXz',\n",
       "  'xpub': 'xpub6GXw7UcaSzVCeQfWFSBMZ1pAgkoZN8jSyxVde5JkwdSSHyU84jtjA7p9rpU5dL2ccXeSHzwDYSRAxAP4w1THNbEVb1o74BYUtFTiMB6TXAy',\n",
       "  'privkey': 'L2a22Qs8vrsrpNV3oSH3SbAAzhrmcL4aWKHBiCViQ7x4EEsAtJNS',\n",
       "  'pubkey': '03ec73eb2217e34a5f73dffe6862dc2f9e204ed525c6c6f4e4ab68d59d3eb2f0e7',\n",
       "  'pubkeyhash': 'e5733cf48f88579e595217285404fe23656bccbd',\n",
       "  'index': 6},\n",
       " {'path': \"m/44'/0'/0'/0/7\",\n",
       "  'address': '1J71qBswXgbCbxeE2v3S9oPxynHkSB3ZhP',\n",
       "  'xprv': 'xprvA3Yahy5gccvuVh7yKopsMg1BjvWUk67KbjYa57ZFpJXGKzr8oLwnRhKjNXUqnbXD3u9YVwK8biiPE32DbAiquZjCkswniA2opD6o9jYrdAF',\n",
       "  'xpub': 'xpub6GXw7UcaSzVCiBCSRqMsiowvHxLy9YqAxxUAsVxsNe4FCoBHLtG2yVeDDndR8wh8REdM5FNiz9tz7Xsr7swWc3r28hm237ordmHGdkJYnJ9',\n",
       "  'privkey': 'KwqxJwnE98p8GHaA6bJRoWpLv8nQhDRxUzEPyE3S2eeLTtNx1pMv',\n",
       "  'pubkey': '02221aee88d24ceb5b44656c3b8890d0f293f9f8b4db402b4308bad0eb3a6f0776',\n",
       "  'pubkeyhash': 'bb9d53df765d546bc0701e551e215313621c8cdf',\n",
       "  'index': 7},\n",
       " {'path': \"m/44'/0'/0'/0/8\",\n",
       "  'address': '13D1YNujR1WXRFiwxzTXSWWwymo49pFuVb',\n",
       "  'xprv': 'xprvA3Yahy5gccvuYD3G7VHrXZJyQm7p3r8vBLp6Nhd6UBdZxkwmyaDqjCyeUkFmiebDDVEuBV6vf6WVkVgS6tmqUQVnmPyJoCg3PWLsYbhc4xH',\n",
       "  'xpub': 'xpub6GXw7UcaSzVCkh7jDWprthFhxnxJTJrmYZjhB62i2XAYqZGvX7Y6H1J8L1SCvtExuXQc3W9mAmqKyH6JQzRtLXyCojgh9pwXiaWxrEC155H',\n",
       "  'privkey': 'L4LHiUCsft73J4Mz5wY6A93XCqKbcEmNQtRa7quQRyY4tXyBbShD',\n",
       "  'pubkey': '02e7edb4f06766ec09b4447fddb96c06b4c369e4a98aaf23905bbb06261a6d1bb1',\n",
       "  'pubkeyhash': '1835b1d879af13f0f7ce5b5dfe3731f68851110a',\n",
       "  'index': 8},\n",
       " {'path': \"m/44'/0'/0'/0/9\",\n",
       "  'address': '1Jt6dWdW6oQ3Ph1J2QU6BrhKbdHnGcZYXW',\n",
       "  'xprv': 'xprvA3Yahy5gccvuYSPrqLyNMEnZy9yZ9XJAVWcgxv7MjazURhqHK8gYp5jUmx3k4eGfR77rhzabtzBQ65d2SdbbWappzuP26vCxoLWrtPxBGNk',\n",
       "  'xpub': 'xpub6GXw7UcaSzVCkvUKwNWNiNjJXBp3Yz21rjYHmJWyHvXTJWARrfzoMt3xdD1fpNpfhfqLNndJUwfA8ErreHqaWFPLzU5z3EfAAXVr2zyHz1T',\n",
       "  'privkey': 'L2Z6sQbCAUYpry7cR2ouayxVU1V6u52iU6oBfompLuLQotwdEH6j',\n",
       "  'pubkey': '029671cfac56ecc6a982d7ef38560501b790fce3c831b70cf08004d604a7f26009',\n",
       "  'pubkeyhash': 'c4240d387e4ab67d31e299b79b3aafaab871b77c',\n",
       "  'index': 9}]"
      ]
     },
     "execution_count": 5,
     "metadata": {},
     "output_type": "execute_result"
    }
   ],
   "source": [
    "keys = json.loads(output)\n",
    "keys"
   ]
  },
  {
   "cell_type": "code",
   "execution_count": 6,
   "metadata": {},
   "outputs": [],
   "source": [
    "def derive_wallets(coin, num_derive, mnemonic):\n",
    "    command = f\"./derive -g --mnemonic='{mnemonic}' --numderive={num_derive} --coin={coin} --format=json\"\n",
    "    proc = subprocess.Popen(command, stdout=subprocess.PIPE, shell=True)\n",
    "    (output, err) = proc.communicate()\n",
    "    p_status = proc.wait()\n",
    "    \n",
    "    keys = json.loads(output)\n",
    "\n",
    "    return keys"
   ]
  },
  {
   "cell_type": "code",
   "execution_count": 9,
   "metadata": {},
   "outputs": [],
   "source": [
    "coins_to_derive = { 'btc', 'eth', 'btc-test'}\n",
    "numderive = 10"
   ]
  },
  {
   "cell_type": "code",
   "execution_count": 10,
   "metadata": {},
   "outputs": [],
   "source": [
    "keys = {}\n",
    "for coin in coins_to_derive:\n",
    "    keys[coin] =  derive_wallets(coin, '3', mnemonic)"
   ]
  },
  {
   "cell_type": "code",
   "execution_count": 11,
   "metadata": {},
   "outputs": [
    {
     "data": {
      "text/plain": [
       "[{'path': \"m/44'/1'/0'/0/0\",\n",
       "  'address': 'n2khnjzqkroVn6KS12NsBQg4tth5CYtgf2',\n",
       "  'xprv': 'tprv8kTUJMgRsR6edYj4wasVh7ZDWgdNmTEDUTV5PDmw4t8cDX718pvrK156UtgfcwaqhromDg7AFRVYgeYiMjUMCdVMbDh1Wshj66iuoQfdNnD',\n",
       "  'xpub': 'tpubDH9WSmig1nnKX1krqEY66XDL5i9JvnR83m5rfjpEV9w141MmmDkSVVgxf29VjArMgeuyLBwxBpmbNXVW69UXLjRsuoKkvQFBiqPG5XbCvSj',\n",
       "  'privkey': 'cNM494tDmabY2Ewa6Q83erGTR3t9gpbCU5kRGyrXoj1dsVQhuRPf',\n",
       "  'pubkey': '025ac8e8c5b7a783258895eabf51a1d612efb92fcf2dfa7bc2e2895f8bd1727bf6',\n",
       "  'pubkeyhash': 'e8f45b4000910b5737b5646f94a0ebfb884f2896',\n",
       "  'index': 0},\n",
       " {'path': \"m/44'/1'/0'/0/1\",\n",
       "  'address': 'n4GP4Js9kJxcNpiNGeBmr5H5mi69PPTyf8',\n",
       "  'xprv': 'tprv8kTUJMgRsR6efxkpeCdjEFcSH4wFG1XAuF1bPgA2URV3nf9xwWHS8iJsczKknFHemx2djBZDUGaBZUZdZXYkioef7u6GdLz9cMEhAdLiPu7',\n",
       "  'xpub': 'tpubDH9WSmig1nnKZRncXrJKdfGYr6TBRLi5UYcNgCCKthHSd9QjZu72KCvjo73fooP5ctVJfXwNHmQQrKuHX6qEsmnDM9927vFcatxkBcrg6Z9',\n",
       "  'privkey': 'cRYi8w5ZxjqqLXcdryEPeVBZDaCwRo3KZpUz3u4munWVbvXD61C3',\n",
       "  'pubkey': '0258d941cd793502567b3eb357a29a5ddfb963de841855aca6efa8a4e44e7b31a6',\n",
       "  'pubkeyhash': 'f98953210d246c87b2a0577a102c0be62f278ef0',\n",
       "  'index': 1},\n",
       " {'path': \"m/44'/1'/0'/0/2\",\n",
       "  'address': 'n3EFPiNsN86eLnntQvtngjsvPZTwWjxrDX',\n",
       "  'xprv': 'tprv8kTUJMgRsR6ehqDRe7WevMsUbGvsnepSaS2abZyuEvh1D1RCKPAYyNBPBfVfTdDPb31KuK2ugKm75QcBmwab9SmzKUvSotxi9iPiYu691WP',\n",
       "  'xpub': 'tpubDH9WSmig1nnKbJFDXmBFKmXbAJSowz1M9jdMt62CfCVQ3Vfxwmz99roFMomuFLQcE2tjdjoQy7GkyjEV7eFNvADexZYXa5Ftt7DJet26rP7',\n",
       "  'privkey': 'cVUuyMrrxrg5CVKTU5fPy4kZ6F6NpEzdSBvPJtHhYEqGS3AcUXa4',\n",
       "  'pubkey': '039b56014f2ee275a1040abc72231868f21a5c47906ad5b790ea470dd6b595ad95',\n",
       "  'pubkeyhash': 'ee29f7deafd3a2ab8fdebd2852ae5c11398a8204',\n",
       "  'index': 2}]"
      ]
     },
     "execution_count": 11,
     "metadata": {},
     "output_type": "execute_result"
    }
   ],
   "source": [
    "keys['btc-test']"
   ]
  },
  {
   "cell_type": "code",
   "execution_count": 37,
   "metadata": {},
   "outputs": [
    {
     "name": "stdout",
     "output_type": "stream",
     "text": [
      "Ether PK: 0x79c669b9c205dc1d00fa9a02a3509cdf04b083ba7dc5181b2bc1e64fee0a27f6\n",
      "BTC-TEST PK: cRYi8w5ZxjqqLXcdryEPeVBZDaCwRo3KZpUz3u4munWVbvXD61C3\n"
     ]
    }
   ],
   "source": [
    "ether_pk = keys[\"eth\"][0]['privkey']\n",
    "btc_pk = keys['btc-test'][1]['privkey']\n",
    "print(f\"Ether PK: {ether_pk}\")\n",
    "print(f\"BTC-TEST PK: {btc_pk}\")"
   ]
  },
  {
   "cell_type": "code",
   "execution_count": 38,
   "metadata": {},
   "outputs": [],
   "source": [
    "def priv_key_to_account(coin, pk):\n",
    "    if coin == ETH:\n",
    "        return Account.privateKeyToAccount(pk)\n",
    "    elif coin == BTCTEST:\n",
    "        return PrivateKeyTestnet(pk)"
   ]
  },
  {
   "cell_type": "code",
   "execution_count": 39,
   "metadata": {},
   "outputs": [
    {
     "name": "stdout",
     "output_type": "stream",
     "text": [
      "Ether PK to Account: <eth_account.signers.local.LocalAccount object at 0x7fb080b5b640>\n",
      "BTC-TEST PK to Account: <PrivateKeyTestnet: n4GP4Js9kJxcNpiNGeBmr5H5mi69PPTyf8>\n"
     ]
    }
   ],
   "source": [
    "eth_account = priv_key_to_account(ETH, ether_pk)\n",
    "btc_account = priv_key_to_account(BTCTEST, btc_pk)\n",
    "print(f\"Ether PK to Account: {eth_account}\")\n",
    "print(f\"BTC-TEST PK to Account: {btc_account}\")"
   ]
  },
  {
   "cell_type": "code",
   "execution_count": 40,
   "metadata": {},
   "outputs": [],
   "source": [
    "def create_tx(coin, accnt, rcpnt, amnt):\n",
    "    global transaction_data\n",
    "    if coin == ETH:\n",
    "        gasEstimate = w3.eth.estimateGas(\n",
    "            {\"from\": accnt.address, \"to\": rcpnt, \"value\": amnt}\n",
    "        )\n",
    "        trx_data = {\n",
    "            \"to\": rcpnt,\n",
    "            \"from\": accnt.address,\n",
    "            \"value\": amnt,\n",
    "            \"gasPrice\": w3.eth.gasPrice,\n",
    "            \"gas\": gasEstimate,\n",
    "            \"nonce\": w3.eth.getTransactionCount(accnt.address)\n",
    "        }\n",
    "        return trx_data\n",
    "\n",
    "    if coin == BTCTEST:\n",
    "        return PrivateKeyTestnet.prepare_transaction(accnt.address, [(rcpnt, amnt, BTC)])  "
   ]
  },
  {
   "cell_type": "code",
   "execution_count": 41,
   "metadata": {},
   "outputs": [],
   "source": [
    "def send_tx(coin, accnt, rcpnt, amnt):\n",
    "    \"\"\"call create_trx, sign the transaction, then send it to the designated network\"\"\"\n",
    "    if coin == \"eth\": \n",
    "        trx_eth = create_tx(coin,accnt, rcpnt, amnt)\n",
    "        sign = account.signTransaction(trx_eth)\n",
    "        result = w3.eth.sendRawTransaction(sign.rawTransaction)\n",
    "        print(result.hex())\n",
    "        return result.hex()\n",
    "    else:\n",
    "        trx_btctest= create_tx(coin,accnt,rcpnt,amnt)\n",
    "        sign_trx_btctest = accnt.sign_transaction(trx_btctest)\n",
    "        from bit.network import NetworkAPI\n",
    "        NetworkAPI.broadcast_tx_testnet(sign_trx_btctest)       \n",
    "        return sign_trx_btctest"
   ]
  },
  {
   "cell_type": "code",
   "execution_count": 42,
   "metadata": {},
   "outputs": [
    {
     "name": "stdout",
     "output_type": "stream",
     "text": [
      "BTC Account: <PrivateKeyTestnet: n4GP4Js9kJxcNpiNGeBmr5H5mi69PPTyf8>\n"
     ]
    }
   ],
   "source": [
    "btc_acc = priv_key_to_account(BTCTEST,btc_pk)\n",
    "print(f\"BTC Account: {btc_acc}\")"
   ]
  },
  {
   "cell_type": "code",
   "execution_count": 53,
   "metadata": {},
   "outputs": [
    {
     "name": "stdout",
     "output_type": "stream",
     "text": [
      "BTC Account: None\n"
     ]
    }
   ],
   "source": [
    "btc_2_acc = priv_key_to_account(BTCTEST,btc_pk)\n",
    "print(f\"BTC Account: {btc_2_acc}\")"
   ]
  },
  {
   "cell_type": "code",
   "execution_count": 51,
   "metadata": {},
   "outputs": [
    {
     "data": {
      "text/plain": [
       "{'unspents': [{'amount': 10000,\n",
       "   'confirmations': 2,\n",
       "   'script': '76a914f98953210d246c87b2a0577a102c0be62f278ef088ac',\n",
       "   'txid': '5d4760f892f783ed73a8af00d4d68359606d043ca36d252b37cfed213aff4e59',\n",
       "   'txindex': 1,\n",
       "   'type': 'p2pkh',\n",
       "   'vsize': 148,\n",
       "   'segwit': False,\n",
       "   'sequence': 4294967295},\n",
       "  {'amount': 10000,\n",
       "   'confirmations': 0,\n",
       "   'script': '76a914f98953210d246c87b2a0577a102c0be62f278ef088ac',\n",
       "   'txid': 'fbee30cdf6ffb4b6f3113cb7219ffb6ba3f3309edbde33854fd94785d93fa8b8',\n",
       "   'txindex': 1,\n",
       "   'type': 'p2pkh',\n",
       "   'vsize': 148,\n",
       "   'segwit': False,\n",
       "   'sequence': 4294967295},\n",
       "  {'amount': 10000,\n",
       "   'confirmations': 0,\n",
       "   'script': '76a914f98953210d246c87b2a0577a102c0be62f278ef088ac',\n",
       "   'txid': '8d3f6fc07d2e07170dc3bc00e982e5a36c21ab8d80df43f0b8f7aacb50e89e9a',\n",
       "   'txindex': 0,\n",
       "   'type': 'p2pkh',\n",
       "   'vsize': 148,\n",
       "   'segwit': False,\n",
       "   'sequence': 4294967295},\n",
       "  {'amount': 54000,\n",
       "   'confirmations': 0,\n",
       "   'script': '76a914f98953210d246c87b2a0577a102c0be62f278ef088ac',\n",
       "   'txid': '138d70a9361f81f8e3e68034239822cf2c6839bf281a6674bff7924e78662a13',\n",
       "   'txindex': 0,\n",
       "   'type': 'p2pkh',\n",
       "   'vsize': 148,\n",
       "   'segwit': False,\n",
       "   'sequence': 4294967295},\n",
       "  {'amount': 1958957,\n",
       "   'confirmations': 0,\n",
       "   'script': '76a914f98953210d246c87b2a0577a102c0be62f278ef088ac',\n",
       "   'txid': 'd3153577662e8859c866bb729022b05b71f082dc24244a28037b59c0a8282207',\n",
       "   'txindex': 1,\n",
       "   'type': 'p2pkh',\n",
       "   'vsize': 148,\n",
       "   'segwit': False,\n",
       "   'sequence': 4294967295}],\n",
       " 'outputs': [['n4GP4Js9kJxcNpiNGeBmr5H5mi69PPTyf8', 10000],\n",
       "  ['n4GP4Js9kJxcNpiNGeBmr5H5mi69PPTyf8', 1949521]]}"
      ]
     },
     "execution_count": 51,
     "metadata": {},
     "output_type": "execute_result"
    }
   ],
   "source": [
    "create_tx_json = json.loads(create_tx(BTCTEST,btc_acc,\"n4GP4Js9kJxcNpiNGeBmr5H5mi69PPTyf8\",0.0001))\n",
    "create_tx_json"
   ]
  },
  {
   "cell_type": "code",
   "execution_count": 54,
   "metadata": {},
   "outputs": [
    {
     "data": {
      "text/plain": [
       "'01000000059a9ee850cbaaf7b8f043df808dab216ca3e582e900bcc30d17072e7dc06f3f8d000000006a473044022000a99ed8c9279c217c123cb44237fc8018d4b9aa0a821546402a8d46dfedf585022077726b29f9878b01a4df4b11798a1c16516e7cea1843b9ccef8ec8328bc2977a01210258d941cd793502567b3eb357a29a5ddfb963de841855aca6efa8a4e44e7b31a6ffffffff072228a8c0597b03284a2424dc82f0715bb0229072bb66c859882e66773515d3010000006a47304402202c72fff6e5b80adfdbdd74bd91f8abc3e9179fb0716ff827aa0dfadffa355418022068986f3a34f6c4721b2719b06d504dc78c023710e005a8db47508a4b0bdbdbdb01210258d941cd793502567b3eb357a29a5ddfb963de841855aca6efa8a4e44e7b31a6ffffffff594eff3a21edcf372b256da33c046d605983d6d400afa873ed83f792f860475d010000006a4730440220296a591ed92e2f5593557987b0b30f1b98c0bf48a4b279c776f0c32de8e2bca802201d5294c8d70e4b18d555de7db4418a7a3e15f8b19b97eddba8bbfa7b567a873901210258d941cd793502567b3eb357a29a5ddfb963de841855aca6efa8a4e44e7b31a6ffffffff132a66784e92f7bf74661a28bf39682ccf2298233480e6e3f8811f36a9708d13000000006b4830450221009d3aabbf9ffcebc01b01dc1c73b8565c65a2fc4a344a91a137cf837bed70d56b02207eb002bf32f5b553d9f270907389e38677e004664ce726d0d2b152cf2c3aff7f01210258d941cd793502567b3eb357a29a5ddfb963de841855aca6efa8a4e44e7b31a6ffffffffb8a83fd98547d94f8533dedb9e30f3a36bfb9f21b73c11f3b6b4fff6cd30eefb010000006a4730440220429e9cb5735f69d9e838c24ad46387474e639f58a1351e910c3fd1a890e4c48a02206d910aa28c983964ec8d658bcc40d2c1f27b5517847387d14fd11c36c04d1f2301210258d941cd793502567b3eb357a29a5ddfb963de841855aca6efa8a4e44e7b31a6ffffffff0210270000000000001976a914e8f45b4000910b5737b5646f94a0ebfb884f289688ac51bf1d00000000001976a914f98953210d246c87b2a0577a102c0be62f278ef088ac00000000'"
      ]
     },
     "execution_count": 54,
     "metadata": {},
     "output_type": "execute_result"
    }
   ],
   "source": [
    "send_tx_json = send_tx(BTCTEST,btc_acc,'n2khnjzqkroVn6KS12NsBQg4tth5CYtgf2',0.0001)"
   ]
  },
  {
   "cell_type": "code",
   "execution_count": null,
   "metadata": {},
   "outputs": [],
   "source": []
  }
 ],
 "metadata": {
  "interpreter": {
   "hash": "6e9cd4aa2f85adbd8393c62373931955f4467dda90c755b9b0c6a1307c658557"
  },
  "kernelspec": {
   "display_name": "Python 3 (ipykernel)",
   "language": "python",
   "name": "python3"
  },
  "language_info": {
   "codemirror_mode": {
    "name": "ipython",
    "version": 3
   },
   "file_extension": ".py",
   "mimetype": "text/x-python",
   "name": "python",
   "nbconvert_exporter": "python",
   "pygments_lexer": "ipython3",
   "version": "3.8.10"
  }
 },
 "nbformat": 4,
 "nbformat_minor": 4
}
